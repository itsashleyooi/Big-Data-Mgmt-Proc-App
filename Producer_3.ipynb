{
 "cells": [
  {
   "cell_type": "markdown",
   "metadata": {},
   "source": [
    "## FIT3182: Assignment 2 Part B (Event Producer 3) \n",
    "\n",
    "### Name: Ashley Ooi Yan-Lin (ID: 31171095)"
   ]
  },
  {
   "cell_type": "markdown",
   "metadata": {},
   "source": [
    "### Task 1: Processing Data Stream\n",
    "\n",
    "### (c) Write a python program that loads all the data from hotspot_TERRA_streaming.csv and randomly (with replacement) feeds the data to the stream every 2 seconds. TERRA is another satellite from NASA that reports latitude, longitude, confidence and surface temperature of a location. You will need to append additional information such as producer information to identify the producer and created date & time."
   ]
  },
  {
   "cell_type": "markdown",
   "metadata": {},
   "source": [
    "Firstly, we need to establish a connection with our MongoClient and retrieve the collection created in Part A to obtain the most recent date."
   ]
  },
  {
   "cell_type": "code",
   "execution_count": 1,
   "metadata": {},
   "outputs": [],
   "source": [
    "import pymongo\n",
    "from pymongo import MongoClient\n",
    "from pprint import pprint\n",
    "import pandas as pd\n",
    "from datetime import datetime,timedelta\n",
    "\n",
    "client = MongoClient () \n",
    "db = client.fit3182_assignment_db\n",
    "collection = db.partA"
   ]
  },
  {
   "cell_type": "markdown",
   "metadata": {},
   "source": [
    "Next, we need to create our program to facilitate the transmission of our data to Kafka."
   ]
  },
  {
   "cell_type": "code",
   "execution_count": null,
   "metadata": {},
   "outputs": [
    {
     "name": "stdout",
     "output_type": "stream",
     "text": [
      "Message published successfully. Data: {'latitude': -37.8276, 'longitude': 142.7573, 'confidence': 73.0, 'surface_temperature_celcius': 47.0, 'created_datetime': '2022-05-20 03:23:17', 'producer_id': 'hotspot_terra_producer'}\n",
      "Message published successfully. Data: {'latitude': -37.7134, 'longitude': 143.3818, 'confidence': 85.0, 'surface_temperature_celcius': 59.0, 'created_datetime': '2022-05-20 06:56:44', 'producer_id': 'hotspot_terra_producer'}\n",
      "Message published successfully. Data: {'latitude': -36.9294, 'longitude': 142.7087, 'confidence': 78.0, 'surface_temperature_celcius': 51.0, 'created_datetime': '2022-05-20 08:17:22', 'producer_id': 'hotspot_terra_producer'}\n",
      "Message published successfully. Data: {'latitude': -38.1756, 'longitude': 143.9829, 'confidence': 65.0, 'surface_temperature_celcius': 53.0, 'created_datetime': '2022-05-20 15:34:08', 'producer_id': 'hotspot_terra_producer'}\n"
     ]
    }
   ],
   "source": [
    "from time import sleep\n",
    "from json import dumps\n",
    "from kafka import KafkaProducer\n",
    "import random\n",
    "\n",
    "# Reads data from hotspot_TERRA_streaming.csv, puts each row data into a document and appends all such documents into a list.\n",
    "def read_hotspot_TERRA_streaming():\n",
    "    hotspot_TERRA_streaming = pd.read_csv('hotspot_TERRA_streaming.csv')\n",
    "\n",
    "    data = []\n",
    "    for index,terraRow in hotspot_TERRA_streaming.iterrows():\n",
    "        document = {}\n",
    "        document['latitude'] = float(terraRow['latitude'])\n",
    "        document['longitude'] = float(terraRow['longitude'])\n",
    "        document['confidence'] = int(terraRow['confidence'])\n",
    "        document['surface_temperature_celcius'] = int(terraRow['surface_temperature_celcius'])\n",
    "        data.append(document)\n",
    "    \n",
    "    return data\n",
    "\n",
    "# Gets the latest date in our collection\n",
    "def get_latest_date():\n",
    "    latest_date = collection.aggregate([\n",
    "                {\"$sort\":{\"date\":-1}},\n",
    "                {\"$project\":{\"_id\":0,\"date\":1}},\n",
    "                {\"$limit\":1}\n",
    "                ])\n",
    "    for document in latest_date:\n",
    "        latest_date = document['date']\n",
    "    return latest_date\n",
    "    \n",
    "# Publishes message to Kafka\n",
    "def publish_message(producer_instance, topic_name, data):\n",
    "    try:\n",
    "        producer_instance.send(topic_name, value=data)\n",
    "        print('Message published successfully. Data: ' + str(data))\n",
    "    except Exception as ex:\n",
    "        print('Exception in publishing message.')\n",
    "        print(str(ex))\n",
    "        \n",
    "def connect_kafka_producer():\n",
    "    _producer = None\n",
    "    try:\n",
    "        _producer = KafkaProducer(bootstrap_servers=['localhost:9092'],\n",
    "                                  value_serializer=lambda x: dumps(x).encode('ascii'),\n",
    "                                  api_version=(0, 10))\n",
    "    except Exception as ex:\n",
    "        print('Exception while connecting Kafka.')\n",
    "        print(str(ex))\n",
    "    finally:\n",
    "        return _producer\n",
    "    \n",
    "if __name__ == '__main__':\n",
    "   \n",
    "    topic = 'PartB'\n",
    "    print('Publishing records..')\n",
    "    producer03 = connect_kafka_producer()\n",
    "    data = read_hotspot_TERRA_streaming() # Gets all the documents produced from hotspot_TERRA_streaming.csv\n",
    "    latest_date = get_latest_date() + timedelta(days=1) # After getting latest date, we would add one day to it to get the first date we would use to start feeding data\n",
    "    secondsPassed= 0 # Tracks how many seconds we should add to our latest date\n",
    "\n",
    "    while True:\n",
    "        chosenData = random.choice(data)   # Randomly chooses a document from our list of documents\n",
    "        curr_date = latest_date + timedelta(seconds=secondsPassed) # Creates the date we will use to feed our data by adding the number of seconds to our latest date from Part A\n",
    "        chosenData['producer'] = \"hotspot_TERRA_streaming\"\n",
    "        chosenData[\"created_datetime\"] = curr_date.strftime(\"%d/%m/%Y %H:%M:%S\")\n",
    "        publish_message(producer03, topic, chosenData)\n",
    "        secondsPassed += 17280 # After we insert a hotspot streaming data, add 17280 seconds to secondPassed. 17280 second is equivalent to 24 hours divided by 5. As we would insert 5 hotspot AQUA streaming data per day, adding 17280 seconds each time after we insert a hotspot streaming data simulates the time difference of adding the 5 data in a day\n",
    "        sleep(2) # Sleep for 2 seconds so that we would be able to insert 5 data per climate streaming data being inserted, as climate streaming data is inserted every 10 seconds"
   ]
  }
 ],
 "metadata": {
  "interpreter": {
   "hash": "31f2aee4e71d21fbe5cf8b01ff0e069b9275f58929596ceb00d14d90e3e16cd6"
  },
  "kernelspec": {
   "display_name": "Python 3 (ipykernel)",
   "language": "python",
   "name": "python3"
  },
  "language_info": {
   "codemirror_mode": {
    "name": "ipython",
    "version": 3
   },
   "file_extension": ".py",
   "mimetype": "text/x-python",
   "name": "python",
   "nbconvert_exporter": "python",
   "pygments_lexer": "ipython3",
   "version": "3.11.5"
  }
 },
 "nbformat": 4,
 "nbformat_minor": 2
}
